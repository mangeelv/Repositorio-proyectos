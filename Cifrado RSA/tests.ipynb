{
 "cells": [
  {
   "cell_type": "code",
   "execution_count": 1,
   "metadata": {},
   "outputs": [
    {
     "name": "stdout",
     "output_type": "stream",
     "text": [
      "12\n"
     ]
    }
   ],
   "source": [
    "m = '12345'\n",
    "d = 3\n",
    "print(m[:-d])"
   ]
  },
  {
   "cell_type": "code",
   "execution_count": 2,
   "metadata": {},
   "outputs": [
    {
     "name": "stdout",
     "output_type": "stream",
     "text": [
      "333961\n",
      "172052\n",
      "1234\n"
     ]
    }
   ],
   "source": [
    "import random\n",
    "import modular as md \n",
    "def generar_claves(min_primo:int,max_primo:int)-> [int,int,int]:\n",
    "    \"\"\"Toma dos primos entre min_primo (incluido) y max_primo (excluido) y devuelve\n",
    "    n,e,d\n",
    "    donde (n,e) es la clave pública y d la clave privada para RSA\n",
    "\n",
    "    Args:\n",
    "        min_primo (int): Límite inferior para los primo p1 y p2 usados en la clave\n",
    "        max_primo (int): Límite superior para los primo p1 y p2 usados en la clave\n",
    "\n",
    "    \n",
    "    Returns:\n",
    "        n (int): Módulo para RSA, formado por el producto de dos primos p1 y p2 tales que\n",
    "            min_primo<=p1, p2 < max_primo\n",
    "        e (int): Exponente de la clave pública para RSA con módulo n=p1*p2\n",
    "        d (int): Exponente de la clave privada para RSA con módulo n\n",
    "\n",
    "    Raises: None\n",
    "    \"\"\"\n",
    "    # Cambiamos la salida lista de primos de string a lista\n",
    "    lista_primos = md.lista_primos(min_primo,max_primo)\n",
    "    lista_primos = lista_primos.split(',')\n",
    "    conversor_int = lambda numero:int(numero)\n",
    "    lista_primos = map(conversor_int,lista_primos)\n",
    "    lista_primos= list(lista_primos)\n",
    "    # print(lista_primos)\n",
    "    l = len(lista_primos)\n",
    "    indice_1 = random.randint(0,l-1)\n",
    "    indice_2 = random.randint(0,l-1)\n",
    "    while indice_2 == indice_1:\n",
    "        indice_2 = random.randint(0,l-1) # l-1 porque si coge l daría index error\n",
    "    # print(indice_1,indice_2)\n",
    "    p = lista_primos[indice_1]\n",
    "    q = lista_primos[indice_2]\n",
    "    n = p*q\n",
    "    phi_n = (p-1)*(q-1)\n",
    "    while True:\n",
    "        r = random.randint(3,phi_n-1)\n",
    "        comparacion = md.coprimos(phi_n,r)\n",
    "        if comparacion == 'Sí':\n",
    "            break\n",
    "    e = r\n",
    "    d = md.inversa_mod_p(e,phi_n)\n",
    "    return n, e, d\n",
    "claves = generar_claves(1,1000)\n",
    "n = claves[0]\n",
    "e = claves[1]\n",
    "d = claves[2]\n",
    "mensaje = 1234\n",
    "print(n)\n",
    "cifrado = md.potencia_mod_p(mensaje,e,n)\n",
    "print(cifrado)\n",
    "descifrado = md.potencia_mod_p(cifrado,d,n)\n",
    "print(descifrado)"
   ]
  },
  {
   "cell_type": "code",
   "execution_count": 3,
   "metadata": {},
   "outputs": [
    {
     "name": "stdout",
     "output_type": "stream",
     "text": [
      "37150\n",
      "37150\n"
     ]
    }
   ],
   "source": [
    "def aplicar_padding(m:int,digitos_padding:int)->int:\n",
    "    \"\"\"Dado un mensaje y un número de dígitos de padding, añade\n",
    "    digitos_padding cifras aleatorias a la derecha del mensaje\n",
    "    \n",
    "    Args:\n",
    "        m (int): Mensaje sin padding\n",
    "        digitos_padding (int): Número de cifras de padding\n",
    "\n",
    "    \n",
    "    Returns:\n",
    "        int: entero formado por los dígitos de m seguidos de digitos_padding cifras aleatorias.\n",
    "\n",
    "    Raises: None\n",
    "\n",
    "    Example:\n",
    "        aplicar_padding(24,2)=2419\n",
    "        aplicar_padding(24,2)=2403\n",
    "        aplicar_padding(24,3)=24718\n",
    "        aplicar_padding(24,3)=24845\n",
    "    \"\"\"\n",
    "    m = str(m) # pasamos a string para poder concatenar numeros\n",
    "    for i in range(digitos_padding):\n",
    "        digito = random.randint(0,9) # añadimos un dígito en cada iteración\n",
    "        m += str(digito)\n",
    "    m = int(m) # pasamos el mensaje a entero\n",
    "    return m\n",
    "\n",
    "def eliminar_padding(m:int,digitos_padding:int)->int:\n",
    "    \"\"\"Dado un mensaje con padding de digitos_padding cifras al\n",
    "    final del mismo, elimina dichas cifras aleatorias y devuelve\n",
    "    el resto de cifras del mensaje\n",
    "\n",
    "    Args:\n",
    "        m (int): Mensaje con padding\n",
    "        digitos_padding (int): Número de cifras de padding\n",
    "\n",
    "    \n",
    "    Returns:\n",
    "        int: entero resultante de eliminar las últimas digitos_padding cifras de m.\n",
    "\n",
    "    Raises: None\n",
    "    \n",
    "    Example:\n",
    "        aplicar_padding(2454,1)=245\n",
    "        aplicar_padding(2454,2)=24\n",
    "        aplicar_padding(2454,3)=2\n",
    "        aplicar_padding(2432,2)=24\n",
    "    \"\"\"\n",
    "    if digitos_padding == 0:\n",
    "        return m\n",
    "    else:\n",
    "        m = str(m)\n",
    "        m = m[:-digitos_padding] # eliminamos los últimos dígitos padding\n",
    "        m = int(m)\n",
    "        return m\n",
    "\n",
    "digitop = aplicar_padding(37150,0)\n",
    "print(digitop)\n",
    "digito = eliminar_padding(digitop,0)\n",
    "print(digito)"
   ]
  },
  {
   "cell_type": "code",
   "execution_count": 4,
   "metadata": {},
   "outputs": [
    {
     "name": "stdout",
     "output_type": "stream",
     "text": [
      "25\n"
     ]
    }
   ],
   "source": [
    "print((5**20)%27)"
   ]
  }
 ],
 "metadata": {
  "kernelspec": {
   "display_name": "Python 3",
   "language": "python",
   "name": "python3"
  },
  "language_info": {
   "codemirror_mode": {
    "name": "ipython",
    "version": 3
   },
   "file_extension": ".py",
   "mimetype": "text/x-python",
   "name": "python",
   "nbconvert_exporter": "python",
   "pygments_lexer": "ipython3",
   "version": "3.10.11"
  }
 },
 "nbformat": 4,
 "nbformat_minor": 2
}
