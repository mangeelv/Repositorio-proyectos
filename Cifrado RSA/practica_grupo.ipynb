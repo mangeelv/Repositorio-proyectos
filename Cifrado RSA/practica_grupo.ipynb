{
 "cells": [
  {
   "cell_type": "code",
   "execution_count": 50,
   "metadata": {},
   "outputs": [
    {
     "name": "stdout",
     "output_type": "stream",
     "text": [
      "Sí\n",
      "Sí\n",
      "Phi n: 766839752952\n",
      "e: 211672346723\n",
      "e y phi_n coprimos Sí\n",
      "Clave publica [766841509571, 211672346723]\n"
     ]
    }
   ],
   "source": [
    "import modular as m\n",
    "import random\n",
    "p = 810583\n",
    "q = 946037\n",
    "print(m.es_primo(p))\n",
    "print(m.es_primo(q))\n",
    "n = p*q\n",
    "phi_n = m.euler(n)\n",
    "print(f'Phi n: {phi_n}')\n",
    "\n",
    "while True:\n",
    "    r = random.randint(3,phi_n-1)\n",
    "    comparacion = m.coprimos(phi_n,r)\n",
    "    if comparacion == 'Sí':\n",
    "        break\n",
    "e = r \n",
    "print(f'e: {e}')\n",
    "print(f'e y phi_n coprimos {m.coprimos(e,phi_n)}')\n",
    "clave_publica = [n,e]\n",
    "print(f'Clave publica {clave_publica}')\n",
    "\n",
    "\n",
    "\n"
   ]
  },
  {
   "cell_type": "code",
   "execution_count": 51,
   "metadata": {},
   "outputs": [
    {
     "name": "stdout",
     "output_type": "stream",
     "text": [
      "Clave publica: [766841509571, 211672346723]\n",
      "Clave privada: 323165802347\n"
     ]
    }
   ],
   "source": [
    "d = m.inversa_mod_p(e,phi_n)\n",
    "print(f'Clave publica: {clave_publica}')\n",
    "print(f'Clave privada: {d}')"
   ]
  },
  {
   "cell_type": "code",
   "execution_count": 52,
   "metadata": {},
   "outputs": [
    {
     "name": "stdout",
     "output_type": "stream",
     "text": [
      "323165802347\n",
      "716803659904\n",
      "1234\n"
     ]
    }
   ],
   "source": [
    "n = clave_publica[0]\n",
    "e = clave_publica[1]\n",
    "print(d)\n",
    "cifrado = m.potencia_mod_p(1234,e,n)\n",
    "print(cifrado)\n",
    "descifrado = m.potencia_mod_p(cifrado,d,n)\n",
    "print(descifrado)"
   ]
  },
  {
   "cell_type": "code",
   "execution_count": 53,
   "metadata": {},
   "outputs": [
    {
     "name": "stdout",
     "output_type": "stream",
     "text": [
      "Mensaje cifrado: [167515357308, 7232082920, 763854652985, 7232082920, 171754440727, 171754440727, 640779788386, 284291707485, 305960152514, 450697958581]\n",
      "Palabra descifrada: macarrones\n"
     ]
    }
   ],
   "source": [
    "# 6\n",
    "clave_publica = [766841509571, 605221370281] # [n,e]\n",
    "clave_privada = 214965679297\n",
    "mensaje = 'macarrones'\n",
    "m_cifrado = ''\n",
    "numeros_asociados = [ord(letra) for letra in mensaje]\n",
    "# cifrado \n",
    "mensaje_cifrado = []\n",
    "for numero in numeros_asociados:\n",
    "    mensaje_cifrado.append(m.potencia_mod_p(numero,clave_publica[1],clave_publica[0]))\n",
    "print(f'Mensaje cifrado: {mensaje_cifrado}')\n",
    "# descifrado\n",
    "palabra_descifrada = ''\n",
    "for numero in mensaje_cifrado:\n",
    "    numero_descifrado = m.potencia_mod_p(numero,clave_privada,clave_publica[0])\n",
    "    letra = chr(numero_descifrado)\n",
    "    palabra_descifrada += letra\n",
    "print(f'Palabra descifrada: {palabra_descifrada}')\n",
    "\n",
    "\n",
    "\n"
   ]
  },
  {
   "cell_type": "code",
   "execution_count": 54,
   "metadata": {},
   "outputs": [
    {
     "name": "stdout",
     "output_type": "stream",
     "text": [
      "Clave privada obtenida: 214965679297\n"
     ]
    }
   ],
   "source": [
    "# Obtener clave privada a partir de claves públicas \n",
    "clave_publica = [766841509571, 605221370281]\n",
    "# clave_privada = 214965679297\n",
    "e = clave_publica[1]\n",
    "phi_n = m.euler(clave_publica[0])\n",
    "clave_privada = m.inversa_mod_p(clave_publica[1],phi_n)\n",
    "print(f'Clave privada obtenida: {clave_privada}')"
   ]
  }
 ],
 "metadata": {
  "kernelspec": {
   "display_name": "Python 3",
   "language": "python",
   "name": "python3"
  },
  "language_info": {
   "codemirror_mode": {
    "name": "ipython",
    "version": 3
   },
   "file_extension": ".py",
   "mimetype": "text/x-python",
   "name": "python",
   "nbconvert_exporter": "python",
   "pygments_lexer": "ipython3",
   "version": "3.10.11"
  }
 },
 "nbformat": 4,
 "nbformat_minor": 2
}
