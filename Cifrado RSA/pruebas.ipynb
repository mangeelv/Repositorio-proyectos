{
 "cells": [
  {
   "cell_type": "code",
   "execution_count": 12,
   "metadata": {},
   "outputs": [
    {
     "name": "stdout",
     "output_type": "stream",
     "text": [
      "Sí\n",
      "Sí\n",
      "Phi n: 766839752952\n",
      "Euler: 4\n"
     ]
    }
   ],
   "source": [
    "import modular as m\n",
    "import random\n",
    "p = 810583\n",
    "q = 946037\n",
    "print(m.es_primo(p))\n",
    "print(m.es_primo(q))\n",
    "n = p*q\n",
    "phi_n = m.euler(n)\n",
    "print(f'Phi n: {phi_n}')\n",
    "C = True\n",
    "while m.coprimos(r,n) != 'Sí': \n",
    "    r = random.randint(2,phi_n)\n",
    "    if m.coprimos(r,n) != 'Sí':\n",
    "        C = False\n",
    "e = r\n",
    "print(f\"Euler: {e}\")\n"
   ]
  },
  {
   "cell_type": "code",
   "execution_count": 11,
   "metadata": {},
   "outputs": [
    {
     "data": {
      "text/plain": [
       "'Sí'"
      ]
     },
     "execution_count": 11,
     "metadata": {},
     "output_type": "execute_result"
    }
   ],
   "source": [
    "m.coprimos(3,n)"
   ]
  }
 ],
 "metadata": {
  "kernelspec": {
   "display_name": "Python 3",
   "language": "python",
   "name": "python3"
  },
  "language_info": {
   "codemirror_mode": {
    "name": "ipython",
    "version": 3
   },
   "file_extension": ".py",
   "mimetype": "text/x-python",
   "name": "python",
   "nbconvert_exporter": "python",
   "pygments_lexer": "ipython3",
   "version": "3.10.11"
  }
 },
 "nbformat": 4,
 "nbformat_minor": 2
}
