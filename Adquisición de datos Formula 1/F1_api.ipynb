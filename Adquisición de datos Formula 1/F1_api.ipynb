{
 "cells": [
  {
   "cell_type": "code",
   "execution_count": 1,
   "metadata": {},
   "outputs": [],
   "source": [
    "import requests\n",
    "import pandas as pd\n",
    "import xml.etree.ElementTree as ET\n",
    "import numpy as np\n",
    "import os"
   ]
  },
  {
   "cell_type": "markdown",
   "metadata": {},
   "source": [
    "a)"
   ]
  },
  {
   "cell_type": "code",
   "execution_count": 2,
   "metadata": {},
   "outputs": [],
   "source": [
    "\n",
    "def parseador_pitstops(url: str):\n",
    "    try:\n",
    "        xml_data = requests.get(url).content\n",
    "        root = ET.fromstring(xml_data)\n",
    "        namespace = {'ns': 'http://ergast.com/mrd/1.5'}\n",
    "        \n",
    "        # Obtener el tipo de carrera de la URL\n",
    "        race_url = root.find('.//ns:Race', namespace).get('url')\n",
    "        race_type = race_url.split(\"/\")[-1]  # Extraer la parte final de la URL\n",
    "        \n",
    "        pitstops_data = []\n",
    "        pitstops_list = root.find('.//ns:PitStopsList', namespace)\n",
    "        \n",
    "        for pitstop in pitstops_list.findall('ns:PitStop', namespace):\n",
    "            driver_id = pitstop.get('driverId')\n",
    "            stop_number = pitstop.get('stop')\n",
    "            lap = pitstop.get('lap')\n",
    "            time = pitstop.get('time')\n",
    "            duration = pitstop.get('duration')\n",
    "            \n",
    "            # Agregar el tipo de carrera a los datos de pitstop\n",
    "            pitstops_data.append({'DriverID': driver_id, 'Stop': stop_number, 'Lap': lap, 'Time': time, 'Duration': duration, 'RaceType': race_type})\n",
    "        \n",
    "        pitstops_df = pd.DataFrame(pitstops_data)\n",
    "        return pitstops_df\n",
    "    except AttributeError:\n",
    "        return pd.DataFrame()"
   ]
  },
  {
   "cell_type": "code",
   "execution_count": 3,
   "metadata": {},
   "outputs": [
    {
     "name": "stdout",
     "output_type": "stream",
     "text": [
      "True\n"
     ]
    }
   ],
   "source": [
    "print(pd.DataFrame().empty)"
   ]
  },
  {
   "cell_type": "code",
   "execution_count": 24,
   "metadata": {},
   "outputs": [
    {
     "name": "stdout",
     "output_type": "stream",
     "text": [
      "2012\n",
      "2013\n",
      "2014\n",
      "2015\n",
      "2016\n",
      "2017\n",
      "2018\n",
      "2019\n",
      "2020\n",
      "2021\n",
      "2022\n",
      "2023\n"
     ]
    }
   ],
   "source": [
    "# esta parte tarda un poco (3 mins)\n",
    "dfs_years = {'2012': [], '2013': [], '2014': [], '2015': [], '2016': [], '2017': [], '2018': [], '2019': [], '2020': [], '2021': [], '2022': [], '2023': []}\n",
    "for year in dfs_years.keys():\n",
    "    print(year)\n",
    "    ronda = 1\n",
    "    while ronda != 100:\n",
    "        offset = 0\n",
    "        while True:\n",
    "            final = f'?limit=30&offset={offset}'\n",
    "            url = f'https://ergast.com/api/f1/{year}/{ronda}/pitstops{final}'\n",
    "            pitstops_df = parseador_pitstops(url)\n",
    "            if not pitstops_df.empty:\n",
    "                pitstops_df['year'] = [year for i in range(len(pitstops_df))]\n",
    "                pitstops_df['round'] = [ronda for i in range(len(pitstops_df))]\n",
    "                dfs_years[year].append(pitstops_df)\n",
    "                offset += 30\n",
    "            else:\n",
    "                break\n",
    "        ronda += 1\n",
    "all_pitstops = pd.concat([df for dfs_list in dfs_years.values() for df in dfs_list], ignore_index=True)\n"
   ]
  },
  {
   "cell_type": "code",
   "execution_count": null,
   "metadata": {},
   "outputs": [],
   "source": []
  },
  {
   "cell_type": "code",
   "execution_count": 44,
   "metadata": {},
   "outputs": [
    {
     "name": "stdout",
     "output_type": "stream",
     "text": [
      "             DriverID Stop Lap      Time  Duration  \\\n",
      "7183           bottas    3  48  17:37:13       NaN   \n",
      "7184          russell    4  48  17:37:18       NaN   \n",
      "7185          mazepin    5  47  17:37:20       NaN   \n",
      "7186  mick_schumacher    5  48  17:37:47       NaN   \n",
      "7187          mazepin    6  48  18:09:58       NaN   \n",
      "\n",
      "                        RaceType  year  round  \n",
      "7183  2021_Azerbaijan_Grand_Prix  2021      6  \n",
      "7184  2021_Azerbaijan_Grand_Prix  2021      6  \n",
      "7185  2021_Azerbaijan_Grand_Prix  2021      6  \n",
      "7186  2021_Azerbaijan_Grand_Prix  2021      6  \n",
      "7187  2021_Azerbaijan_Grand_Prix  2021      6  \n"
     ]
    }
   ],
   "source": [
    "print(all_pitstops[all_pitstops['RaceType'] == '2021_Azerbaijan_Grand_Prix'].tail())"
   ]
  },
  {
   "cell_type": "code",
   "execution_count": 26,
   "metadata": {},
   "outputs": [
    {
     "name": "stdout",
     "output_type": "stream",
     "text": [
      "year\n",
      "2012    20\n",
      "2013    19\n",
      "2014    19\n",
      "2015    19\n",
      "2016    21\n",
      "2017    20\n",
      "2018    21\n",
      "2019    21\n",
      "2020    17\n",
      "2021    21\n",
      "2022    22\n",
      "2023    22\n",
      "Name: RaceType, dtype: int64\n"
     ]
    }
   ],
   "source": [
    "print(all_pitstops.groupby('year')['RaceType'].nunique())"
   ]
  },
  {
   "cell_type": "markdown",
   "metadata": {},
   "source": [
    "b)"
   ]
  },
  {
   "cell_type": "code",
   "execution_count": 27,
   "metadata": {},
   "outputs": [
    {
     "name": "stdout",
     "output_type": "stream",
     "text": [
      "['stevens', 'bruno_senna', 'rosa', 'chilton', 'kubica', 'vandoorne', 'raikkonen', 'kovalainen', 'jules_bianchi', 'haryanto', 'zhou', 'wehrlein', 'ambrosio', 'alonso', 'ricciardo', 'michael_schumacher', 'kevin_magnussen', 'aitken', 'sutil', 'pic', 'glock', 'norris', 'rossi', 'hamilton', 'nasr', 'resta', 'maldonado', 'piastri', 'hulkenberg', 'ericsson', 'vergne', 'bottas', 'ocon', 'webber', 'pietro_fittipaldi', 'vettel', 'grosjean', 'button', 'sirotkin', 'albon', 'sargeant', 'de_vries', 'sainz', 'kobayashi', 'tsunoda', 'garde', 'gasly', 'perez', 'mick_schumacher', 'giovinazzi', 'merhi', 'jolyon_palmer', 'leclerc', 'massa', 'rosberg', 'mazepin', 'brendon_hartley', 'russell', 'latifi', 'petrov', 'karthikeyan', 'stroll', 'gutierrez', 'lawson', 'max_verstappen', 'kvyat']\n",
      "66\n",
      "64\n"
     ]
    }
   ],
   "source": [
    "\n",
    "driver_ids = list(set(all_pitstops['DriverID']))\n",
    "print(driver_ids)\n",
    "print(len(driver_ids))\n",
    "print(driver_ids.index('max_verstappen'))\n",
    "    \n"
   ]
  },
  {
   "cell_type": "code",
   "execution_count": 29,
   "metadata": {},
   "outputs": [],
   "source": [
    "def parseador_drivers(url:str):\n",
    "    try: \n",
    "        xml_data = requests.get(url).content\n",
    "        root = ET.fromstring(xml_data)\n",
    "        namespace = {'ns': 'http://ergast.com/mrd/1.5'}\n",
    "        driver_id = root.find('.//ns:Driver', namespace).get('driverId')\n",
    "        code = root.find('.//ns:Driver', namespace).get('code')\n",
    "        # url = root.find('.//ns:Driver', namespace).get('url')\n",
    "        permanent_number = root.find('.//ns:PermanentNumber', namespace).text\n",
    "        given_name = root.find('.//ns:GivenName', namespace).text\n",
    "        family_name = root.find('.//ns:FamilyName', namespace).text\n",
    "        date_of_birth = root.find('.//ns:DateOfBirth', namespace).text\n",
    "        nationality = root.find('.//ns:Nationality', namespace).text\n",
    "        data = {\n",
    "            'DriverID': [driver_id],\n",
    "            'Code': [code],\n",
    "            'PermanentNumber': [permanent_number],\n",
    "            'GivenName': [given_name],\n",
    "            'FamilyName': [family_name],\n",
    "            'DateOfBirth': [date_of_birth],\n",
    "            'Nationality': [nationality]\n",
    "        }\n",
    "        '''\n",
    "        data = {\n",
    "            'DriverID': [driver_id],\n",
    "            'Code': [code],\n",
    "            'URL': [url],\n",
    "            'PermanentNumber': [permanent_number],\n",
    "            'GivenName': [given_name],\n",
    "            'FamilyName': [family_name],\n",
    "            'DateOfBirth': [date_of_birth],\n",
    "            'Nationality': [nationality]\n",
    "        }\n",
    "        '''\n",
    "        df = pd.DataFrame(data)\n",
    "        return df\n",
    "    except AttributeError:\n",
    "        return driver_id\n",
    "\n",
    "\n"
   ]
  },
  {
   "cell_type": "code",
   "execution_count": 30,
   "metadata": {},
   "outputs": [],
   "source": [
    "drivers_dfs = []\n",
    "pilotos_retirados = [] # Los pilotos retirados no tienen numero y salta error \n",
    "for driverid in driver_ids:\n",
    "    url = f'https://ergast.com/api/f1/drivers/{driverid}'\n",
    "    resultado = parseador_drivers(url)\n",
    "    if type(resultado) ==  str:\n",
    "        pilotos_retirados.append(resultado)\n",
    "    else:\n",
    "        drivers_dfs.append(resultado)\n",
    "\n",
    "drivers_df = pd.concat(drivers_dfs)\n",
    "    \n"
   ]
  },
  {
   "cell_type": "code",
   "execution_count": 10,
   "metadata": {},
   "outputs": [
    {
     "name": "stdout",
     "output_type": "stream",
     "text": [
      "['bruno_senna', 'rosa', 'kovalainen', 'ambrosio', 'michael_schumacher', 'pic', 'glock', 'webber', 'garde', 'petrov', 'karthikeyan']\n"
     ]
    }
   ],
   "source": [
    "print(pilotos_retirados)"
   ]
  },
  {
   "cell_type": "code",
   "execution_count": 31,
   "metadata": {},
   "outputs": [
    {
     "name": "stdout",
     "output_type": "stream",
     "text": [
      "    DriverID Code PermanentNumber GivenName FamilyName DateOfBirth Nationality\n",
      "0    stevens  STE              28      Will    Stevens  1991-06-28     British\n",
      "0    chilton  CHI               4       Max    Chilton  1991-04-21     British\n",
      "0     kubica  KUB              88    Robert     Kubica  1984-12-07      Polish\n",
      "0  vandoorne  VAN               2   Stoffel  Vandoorne  1992-03-26     Belgian\n",
      "0  raikkonen  RAI               7      Kimi  Räikkönen  1979-10-17     Finnish\n"
     ]
    }
   ],
   "source": [
    "print(drivers_df.head())"
   ]
  },
  {
   "cell_type": "code",
   "execution_count": 32,
   "metadata": {},
   "outputs": [],
   "source": [
    "retirados_mapeo = pd.DataFrame()\n",
    "retirados_mapeo['DriverID'] = pilotos_retirados\n",
    "retirados_mapeo['PermanentNumber'] = [np.nan for i in range(len(pilotos_retirados))]\n",
    "activos_mapeo = pd.DataFrame()\n",
    "activos_mapeo['DriverID'] = drivers_df['DriverID']\n",
    "activos_mapeo['PermanentNumber'] = drivers_df['PermanentNumber']\n",
    "mapeo_df = pd.concat([activos_mapeo,retirados_mapeo])\n",
    "\n",
    "\n"
   ]
  },
  {
   "cell_type": "code",
   "execution_count": 33,
   "metadata": {},
   "outputs": [
    {
     "name": "stdout",
     "output_type": "stream",
     "text": [
      "['28']\n",
      "[nan]\n",
      "[nan]\n",
      "['4']\n",
      "['88']\n",
      "['2']\n",
      "['7']\n",
      "[nan]\n",
      "['17']\n",
      "['88']\n",
      "['24']\n",
      "['94']\n",
      "[nan]\n",
      "['14']\n",
      "['3']\n",
      "[nan]\n",
      "['20']\n",
      "['89']\n",
      "['99']\n",
      "[nan]\n",
      "[nan]\n",
      "['4']\n",
      "['53']\n",
      "['44']\n",
      "['12']\n",
      "['40']\n",
      "['13']\n",
      "['81']\n",
      "['27']\n",
      "['9']\n",
      "['25']\n",
      "['77']\n",
      "['31']\n",
      "[nan]\n",
      "['51']\n",
      "['5']\n",
      "['8']\n",
      "['22']\n",
      "['35']\n",
      "['23']\n",
      "['2']\n",
      "['21']\n",
      "['55']\n",
      "['10']\n",
      "['22']\n",
      "[nan]\n",
      "['10']\n",
      "['11']\n",
      "['47']\n",
      "['99']\n",
      "['98']\n",
      "['30']\n",
      "['16']\n",
      "['19']\n",
      "['6']\n",
      "['9']\n",
      "['28']\n",
      "['63']\n",
      "['6']\n",
      "[nan]\n",
      "[nan]\n",
      "['18']\n",
      "['21']\n",
      "['40']\n",
      "['33']\n",
      "['26']\n",
      "66\n"
     ]
    }
   ],
   "source": [
    "c = 0\n",
    "for id in driver_ids:\n",
    "    print(mapeo_df[mapeo_df['DriverID'] == id]['PermanentNumber'].values)\n",
    "    c+=1\n",
    "print(c)\n"
   ]
  },
  {
   "cell_type": "code",
   "execution_count": 34,
   "metadata": {},
   "outputs": [],
   "source": [
    "mapeo_df.loc[mapeo_df['DriverID'] == 'max_verstappen', 'PermanentNumber'] = '33, 1' # Consideramos que verstappen cambió de número "
   ]
  },
  {
   "cell_type": "code",
   "execution_count": 35,
   "metadata": {},
   "outputs": [
    {
     "name": "stdout",
     "output_type": "stream",
     "text": [
      "33, 1\n"
     ]
    }
   ],
   "source": [
    "print(mapeo_df.loc[mapeo_df['DriverID'] == 'max_verstappen', 'PermanentNumber'].values[0])"
   ]
  },
  {
   "cell_type": "markdown",
   "metadata": {},
   "source": [
    "c)"
   ]
  },
  {
   "cell_type": "code",
   "execution_count": 36,
   "metadata": {},
   "outputs": [
    {
     "name": "stdout",
     "output_type": "stream",
     "text": [
      "0       24.599\n",
      "1       32.319\n",
      "2       22.313\n",
      "3       23.203\n",
      "4       22.035\n",
      "         ...  \n",
      "9427    21.274\n",
      "9428    21.667\n",
      "9429    21.275\n",
      "9430    21.919\n",
      "9431    21.564\n",
      "Name: Duration, Length: 9432, dtype: float64\n"
     ]
    }
   ],
   "source": [
    "all_pitstops['Duration'] = pd.to_numeric(all_pitstops['Duration'],errors='coerce')\n",
    "print(all_pitstops['Duration'])"
   ]
  },
  {
   "cell_type": "code",
   "execution_count": 37,
   "metadata": {},
   "outputs": [
    {
     "name": "stdout",
     "output_type": "stream",
     "text": [
      "['2012_Australian_Grand_Prix', '2012_Malaysian_Grand_Prix', '2012_Chinese_Grand_Prix', '2012_Bahrain_Grand_Prix', '2012_Spanish_Grand_Prix', '2012_Monaco_Grand_Prix', '2012_Canadian_Grand_Prix', '2012_European_Grand_Prix', '2012_British_Grand_Prix', '2012_German_Grand_Prix', '2012_Hungarian_Grand_Prix', '2012_Belgian_Grand_Prix', '2012_Italian_Grand_Prix', '2012_Singapore_Grand_Prix', '2012_Japanese_Grand_Prix', '2012_Korean_Grand_Prix', '2012_Indian_Grand_Prix', '2012_Abu_Dhabi_Grand_Prix', '2012_United_States_Grand_Prix', '2012_Brazilian_Grand_Prix', '2013_Australian_Grand_Prix', '2013_Malaysian_Grand_Prix', '2013_Chinese_Grand_Prix', '2013_Bahrain_Grand_Prix', '2013_Spanish_Grand_Prix', '2013_Monaco_Grand_Prix', '2013_Canadian_Grand_Prix', '2013_British_Grand_Prix', '2013_German_Grand_Prix', '2013_Hungarian_Grand_Prix', '2013_Belgian_Grand_Prix', '2013_Italian_Grand_Prix', '2013_Singapore_Grand_Prix', '2013_Korean_Grand_Prix', '2013_Japanese_Grand_Prix', '2013_Indian_Grand_Prix', '2013_Abu_Dhabi_Grand_Prix', '2013_United_States_Grand_Prix', '2013_Brazilian_Grand_Prix', '2014_Australian_Grand_Prix', '2014_Malaysian_Grand_Prix', '2014_Bahrain_Grand_Prix', '2014_Chinese_Grand_Prix', '2014_Spanish_Grand_Prix', '2014_Monaco_Grand_Prix', '2014_Canadian_Grand_Prix', '2014_Austrian_Grand_Prix', '2014_British_Grand_Prix', '2014_German_Grand_Prix', '2014_Hungarian_Grand_Prix', '2014_Belgian_Grand_Prix', '2014_Italian_Grand_Prix', '2014_Singapore_Grand_Prix', '2014_Japanese_Grand_Prix', '2014_Russian_Grand_Prix', '2014_United_States_Grand_Prix', '2014_Brazilian_Grand_Prix', '2014_Abu_Dhabi_Grand_Prix', '2015_Australian_Grand_Prix', '2015_Malaysian_Grand_Prix', '2015_Chinese_Grand_Prix', '2015_Bahrain_Grand_Prix', '2015_Spanish_Grand_Prix', '2015_Monaco_Grand_Prix', '2015_Canadian_Grand_Prix', '2015_Austrian_Grand_Prix', '2015_British_Grand_Prix', '2015_Hungarian_Grand_Prix', '2015_Belgian_Grand_Prix', '2015_Italian_Grand_Prix', '2015_Singapore_Grand_Prix', '2015_Japanese_Grand_Prix', '2015_Russian_Grand_Prix', '2015_United_States_Grand_Prix', '2015_Mexican_Grand_Prix', '2015_Brazilian_Grand_Prix', '2015_Abu_Dhabi_Grand_Prix', '2016_Australian_Grand_Prix', '2016_Bahrain_Grand_Prix', '2016_Chinese_Grand_Prix', '2016_Russian_Grand_Prix', '2016_Spanish_Grand_Prix', '2016_Monaco_Grand_Prix', '2016_Canadian_Grand_Prix', '2016_European_Grand_Prix', '2016_Austrian_Grand_Prix', '2016_British_Grand_Prix', '2016_Hungarian_Grand_Prix', '2016_German_Grand_Prix', '2016_Belgian_Grand_Prix', '2016_Italian_Grand_Prix', '2016_Singapore_Grand_Prix', '2016_Malaysian_Grand_Prix', '2016_Japanese_Grand_Prix', '2016_United_States_Grand_Prix', '2016_Mexican_Grand_Prix', '2016_Brazilian_Grand_Prix', '2016_Abu_Dhabi_Grand_Prix', '2017_Australian_Grand_Prix', '2017_Chinese_Grand_Prix', '2017_Bahrain_Grand_Prix', '2017_Russian_Grand_Prix', '2017_Spanish_Grand_Prix', '2017_Monaco_Grand_Prix', '2017_Canadian_Grand_Prix', '2017_Azerbaijan_Grand_Prix', '2017_Austrian_Grand_Prix', '2017_British_Grand_Prix', '2017_Hungarian_Grand_Prix', '2017_Belgian_Grand_Prix', '2017_Italian_Grand_Prix', '2017_Singapore_Grand_Prix', '2017_Malaysian_Grand_Prix', '2017_Japanese_Grand_Prix', '2017_United_States_Grand_Prix', '2017_Mexican_Grand_Prix', '2017_Brazilian_Grand_Prix', '2017_Abu_Dhabi_Grand_Prix', '2018_Australian_Grand_Prix', '2018_Bahrain_Grand_Prix', '2018_Chinese_Grand_Prix', '2018_Azerbaijan_Grand_Prix', '2018_Spanish_Grand_Prix', '2018_Monaco_Grand_Prix', '2018_Canadian_Grand_Prix', '2018_French_Grand_Prix', '2018_Austrian_Grand_Prix', '2018_British_Grand_Prix', '2018_German_Grand_Prix', '2018_Hungarian_Grand_Prix', '2018_Belgian_Grand_Prix', '2018_Italian_Grand_Prix', '2018_Singapore_Grand_Prix', '2018_Russian_Grand_Prix', '2018_Japanese_Grand_Prix', '2018_United_States_Grand_Prix', '2018_Mexican_Grand_Prix', '2018_Brazilian_Grand_Prix', '2018_Abu_Dhabi_Grand_Prix', '2019_Australian_Grand_Prix', '2019_Bahrain_Grand_Prix', '2019_Chinese_Grand_Prix', '2019_Azerbaijan_Grand_Prix', '2019_Spanish_Grand_Prix', '2019_Monaco_Grand_Prix', '2019_Canadian_Grand_Prix', '2019_French_Grand_Prix', '2019_Austrian_Grand_Prix', '2019_British_Grand_Prix', '2019_German_Grand_Prix', '2019_Hungarian_Grand_Prix', '2019_Belgian_Grand_Prix', '2019_Italian_Grand_Prix', '2019_Singapore_Grand_Prix', '2019_Russian_Grand_Prix', '2019_Japanese_Grand_Prix', '2019_Mexican_Grand_Prix', '2019_United_States_Grand_Prix', '2019_Brazilian_Grand_Prix', '2019_Abu_Dhabi_Grand_Prix', '2020_Austrian_Grand_Prix', '2020_Styrian_Grand_Prix', '2020_Hungarian_Grand_Prix', '2020_British_Grand_Prix', '70th_Anniversary_Grand_Prix', '2020_Spanish_Grand_Prix', '2020_Belgian_Grand_Prix', '2020_Italian_Grand_Prix', '2020_Tuscan_Grand_Prix', '2020_Russian_Grand_Prix', '2020_Eifel_Grand_Prix', '2020_Portuguese_Grand_Prix', '2020_Emilia_Romagna_Grand_Prix', '2020_Turkish_Grand_Prix', '2020_Bahrain_Grand_Prix', '2020_Sakhir_Grand_Prix', '2020_Abu_Dhabi_Grand_Prix', '2021_Bahrain_Grand_Prix', '2021_Emilia_Romagna_Grand_Prix', '2021_Portuguese_Grand_Prix', '2021_Spanish_Grand_Prix', '2021_Monaco_Grand_Prix', '2021_Azerbaijan_Grand_Prix', '2021_French_Grand_Prix', '2021_Styrian_Grand_Prix', '2021_Austrian_Grand_Prix', '2021_British_Grand_Prix', '2021_Hungarian_Grand_Prix', '2021_Dutch_Grand_Prix', '2021_Italian_Grand_Prix', '2021_Russian_Grand_Prix', '2021_Turkish_Grand_Prix', '2021_United_States_Grand_Prix', '2021_Mexican_Grand_Prix', '2021_S%C3%A3o_Paulo_Grand_Prix', '2021_Qatar_Grand_Prix', '2021_Saudi_Arabian_Grand_Prix', '2021_Abu_Dhabi_Grand_Prix', '2022_Bahrain_Grand_Prix', '2022_Saudi_Arabian_Grand_Prix', '2022_Australian_Grand_Prix', '2022_Emilia_Romagna_Grand_Prix', '2022_Miami_Grand_Prix', '2022_Spanish_Grand_Prix', '2022_Monaco_Grand_Prix', '2022_Azerbaijan_Grand_Prix', '2022_Canadian_Grand_Prix', '2022_British_Grand_Prix', '2022_Austrian_Grand_Prix', '2022_French_Grand_Prix', '2022_Hungarian_Grand_Prix', '2022_Belgian_Grand_Prix', '2022_Dutch_Grand_Prix', '2022_Italian_Grand_Prix', '2022_Singapore_Grand_Prix', '2022_Japanese_Grand_Prix', '2022_United_States_Grand_Prix', '2022_Mexican_Grand_Prix', '2022_Brazilian_Grand_Prix', '2022_Abu_Dhabi_Grand_Prix', '2023_Bahrain_Grand_Prix', '2023_Saudi_Arabian_Grand_Prix', '2023_Australian_Grand_Prix', '2023_Azerbaijan_Grand_Prix', '2023_Miami_Grand_Prix', '2023_Monaco_Grand_Prix', '2023_Spanish_Grand_Prix', '2023_Canadian_Grand_Prix', '2023_Austrian_Grand_Prix', '2023_British_Grand_Prix', '2023_Hungarian_Grand_Prix', '2023_Belgian_Grand_Prix', '2023_Dutch_Grand_Prix', '2023_Italian_Grand_Prix', '2023_Singapore_Grand_Prix', '2023_Japanese_Grand_Prix', '2023_Qatar_Grand_Prix', '2023_United_States_Grand_Prix', '2023_Mexico_City_Grand_Prix', '2023_S%C3%A3o_Paulo_Grand_Prix', '2023_Las_Vegas_Grand_Prix', '2023_Abu_Dhabi_Grand_Prix']\n"
     ]
    }
   ],
   "source": [
    "carreras = all_pitstops['RaceType'].unique().tolist()\n",
    "print(carreras)"
   ]
  },
  {
   "cell_type": "code",
   "execution_count": 38,
   "metadata": {},
   "outputs": [
    {
     "name": "stdout",
     "output_type": "stream",
     "text": [
      "2021_Dutch_Grand_Prix\n",
      "2022_Dutch_Grand_Prix\n",
      "2023_Dutch_Grand_Prix\n"
     ]
    }
   ],
   "source": [
    "for carrera in carreras:\n",
    "    if 'Dutch'  in carrera:\n",
    "        print(carrera)"
   ]
  },
  {
   "cell_type": "code",
   "execution_count": 39,
   "metadata": {},
   "outputs": [],
   "source": [
    "all_pitstops['Duration'] = pd.to_numeric(all_pitstops['Duration'],errors='coerce')\n",
    "carreras = all_pitstops['RaceType'].unique().tolist()\n",
    "races_dataframes = []\n",
    "\n",
    "for carrera in carreras:\n",
    "    df_dic = {\"DriverID\":[], \"DriverNumber\":[], \"NPitstops\":[], \"MedianPitStopDuration\":[]}\n",
    "    pitstops_carrera = all_pitstops[all_pitstops['RaceType'] == carrera]\n",
    "    driver_ids = pitstops_carrera['DriverID'].unique().tolist()\n",
    "    \n",
    "    for id in driver_ids:\n",
    "        diver_number = mapeo_df.loc[mapeo_df['DriverID'] == id, 'PermanentNumber'].values[0]\n",
    "        npitstops = len(pitstops_carrera[pitstops_carrera['DriverID'] == id])\n",
    "        pitstop_durations = pitstops_carrera[pitstops_carrera['DriverID'] == id]['Duration']\n",
    "        \n",
    "        if not pitstop_durations.isnull().all():\n",
    "            median_pitstop_duration = pitstop_durations.median()\n",
    "            \n",
    "        else:\n",
    "            median_pitstop_duration = np.nan \n",
    "            \n",
    "        df_dic['DriverID'].append(id)\n",
    "        df_dic['DriverNumber'].append(diver_number)\n",
    "        df_dic['NPitstops'].append(npitstops)\n",
    "        df_dic['MedianPitStopDuration'].append(median_pitstop_duration)\n",
    "        \n",
    "    df = pd.DataFrame(df_dic)\n",
    "    races_dataframes.append(df)"
   ]
  },
  {
   "cell_type": "code",
   "execution_count": 40,
   "metadata": {},
   "outputs": [
    {
     "name": "stdout",
     "output_type": "stream",
     "text": [
      "<class 'pandas.core.frame.DataFrame'>\n",
      "RangeIndex: 19 entries, 0 to 18\n",
      "Data columns (total 4 columns):\n",
      " #   Column                 Non-Null Count  Dtype  \n",
      "---  ------                 --------------  -----  \n",
      " 0   DriverID               19 non-null     object \n",
      " 1   DriverNumber           13 non-null     object \n",
      " 2   NPitstops              19 non-null     int64  \n",
      " 3   MedianPitStopDuration  19 non-null     float64\n",
      "dtypes: float64(1), int64(1), object(2)\n",
      "memory usage: 736.0+ bytes\n",
      "None\n",
      "<class 'pandas.core.frame.DataFrame'>\n",
      "RangeIndex: 18 entries, 0 to 17\n",
      "Data columns (total 4 columns):\n",
      " #   Column                 Non-Null Count  Dtype  \n",
      "---  ------                 --------------  -----  \n",
      " 0   DriverID               18 non-null     object \n",
      " 1   DriverNumber           18 non-null     object \n",
      " 2   NPitstops              18 non-null     int64  \n",
      " 3   MedianPitStopDuration  18 non-null     float64\n",
      "dtypes: float64(1), int64(1), object(2)\n",
      "memory usage: 704.0+ bytes\n",
      "None\n",
      "242\n",
      "242\n"
     ]
    }
   ],
   "source": [
    "print(races_dataframes[0].info())\n",
    "print(races_dataframes[68].info())\n",
    "print(len(races_dataframes))\n",
    "print(len(carreras))\n"
   ]
  },
  {
   "cell_type": "markdown",
   "metadata": {},
   "source": [
    "d)"
   ]
  },
  {
   "cell_type": "code",
   "execution_count": 41,
   "metadata": {},
   "outputs": [],
   "source": [
    "if not os.path.exists('Yearly grandprixs reports'):\n",
    "    os.mkdir('Yearly grandprixs reports')\n",
    "for i in range(len(races_dataframes)):\n",
    "    carrera_name = carreras[i].replace('Grand_Prix','pitsops')\n",
    "    if carrera_name == '70th_Anniversary_pitsops': # Esta carrera es del 2020\n",
    "        if not os.path.exists('Yearly grandprixs reports/2020'):\n",
    "            os.mkdir('Yearly grandprixs reports/2020')\n",
    "        races_dataframes[i].to_csv(f'Yearly grandprixs reports/2020/{carrera_name}.csv',index=False)\n",
    "\n",
    "\n",
    "    else:\n",
    "        carrera_name = carrera_name.split('_')\n",
    "        year = carrera_name[0]\n",
    "        country_name = ''\n",
    "        for i in range(1,len(carrera_name)-1):\n",
    "            country_name += carrera_name[i] + '_'\n",
    "        carrera_name = country_name + year + '_' + 'pitsops'\n",
    "\n",
    "        if not os.path.exists(f'Yearly grandprixs reports/{year}'):\n",
    "            os.mkdir(f'Yearly grandprixs reports/{year}')\n",
    "        ruta = f'Yearly grandprixs reports/{year}/{carrera_name}.csv'\n",
    "        races_dataframes[i].to_csv(ruta,index=False)\n"
   ]
  }
 ],
 "metadata": {
  "kernelspec": {
   "display_name": "Python 3",
   "language": "python",
   "name": "python3"
  },
  "language_info": {
   "codemirror_mode": {
    "name": "ipython",
    "version": 3
   },
   "file_extension": ".py",
   "mimetype": "text/x-python",
   "name": "python",
   "nbconvert_exporter": "python",
   "pygments_lexer": "ipython3",
   "version": "3.10.11"
  }
 },
 "nbformat": 4,
 "nbformat_minor": 2
}
